{
 "cells": [
  {
   "cell_type": "code",
   "execution_count": 1,
   "id": "d0a7e8e1-2dca-4c6f-8885-2fea9a741036",
   "metadata": {},
   "outputs": [],
   "source": [
    "#Import Necessary Libraries\n",
    "import pandas as pd\n",
    "import matplotlib.pyplot as plt\n",
    "import seaborn as sns"
   ]
  },
  {
   "cell_type": "code",
   "execution_count": 2,
   "id": "aaa0fa96-8ab9-4a8f-a4c9-148688f1f28b",
   "metadata": {},
   "outputs": [],
   "source": [
    "# LOADING THE LOAN DATASE\n",
    "IPL_MATCHES = pd.read_csv('IPL_MATCHES.csv')  "
   ]
  },
  {
   "cell_type": "code",
   "execution_count": 3,
   "id": "56c1bdb6-463e-4294-b800-6a71587a7a09",
   "metadata": {},
   "outputs": [
    {
     "data": {
      "text/html": [
       "<div>\n",
       "<style scoped>\n",
       "    .dataframe tbody tr th:only-of-type {\n",
       "        vertical-align: middle;\n",
       "    }\n",
       "\n",
       "    .dataframe tbody tr th {\n",
       "        vertical-align: top;\n",
       "    }\n",
       "\n",
       "    .dataframe thead th {\n",
       "        text-align: right;\n",
       "    }\n",
       "</style>\n",
       "<table border=\"1\" class=\"dataframe\">\n",
       "  <thead>\n",
       "    <tr style=\"text-align: right;\">\n",
       "      <th></th>\n",
       "      <th>id</th>\n",
       "      <th>city</th>\n",
       "      <th>match_date</th>\n",
       "      <th>season</th>\n",
       "      <th>match_number</th>\n",
       "      <th>team1</th>\n",
       "      <th>team2</th>\n",
       "      <th>venue</th>\n",
       "      <th>toss_winner</th>\n",
       "      <th>toss_decision</th>\n",
       "      <th>superover</th>\n",
       "      <th>winning_team</th>\n",
       "      <th>won_by</th>\n",
       "      <th>margin</th>\n",
       "      <th>method</th>\n",
       "      <th>player_of_match</th>\n",
       "      <th>umpire1</th>\n",
       "      <th>umpire2</th>\n",
       "    </tr>\n",
       "  </thead>\n",
       "  <tbody>\n",
       "    <tr>\n",
       "      <th>0</th>\n",
       "      <td>1312200</td>\n",
       "      <td>Ahmedabad</td>\n",
       "      <td>29-05-2022</td>\n",
       "      <td>2022</td>\n",
       "      <td>Final</td>\n",
       "      <td>Rajasthan Royals</td>\n",
       "      <td>Gujarat Titans</td>\n",
       "      <td>Narendra Modi Stadium, Ahmedabad</td>\n",
       "      <td>Rajasthan Royals</td>\n",
       "      <td>bat</td>\n",
       "      <td>N</td>\n",
       "      <td>Gujarat Titans</td>\n",
       "      <td>Wickets</td>\n",
       "      <td>7.0</td>\n",
       "      <td>NaN</td>\n",
       "      <td>HH Pandya</td>\n",
       "      <td>CB Gaffaney</td>\n",
       "      <td>Nitin Menon</td>\n",
       "    </tr>\n",
       "    <tr>\n",
       "      <th>1</th>\n",
       "      <td>1312199</td>\n",
       "      <td>Ahmedabad</td>\n",
       "      <td>27-05-2022</td>\n",
       "      <td>2022</td>\n",
       "      <td>Qualifier 2</td>\n",
       "      <td>Royal Challengers Bangalore</td>\n",
       "      <td>Rajasthan Royals</td>\n",
       "      <td>Narendra Modi Stadium, Ahmedabad</td>\n",
       "      <td>Rajasthan Royals</td>\n",
       "      <td>field</td>\n",
       "      <td>N</td>\n",
       "      <td>Rajasthan Royals</td>\n",
       "      <td>Wickets</td>\n",
       "      <td>7.0</td>\n",
       "      <td>NaN</td>\n",
       "      <td>JC Buttler</td>\n",
       "      <td>CB Gaffaney</td>\n",
       "      <td>Nitin Menon</td>\n",
       "    </tr>\n",
       "    <tr>\n",
       "      <th>2</th>\n",
       "      <td>1312198</td>\n",
       "      <td>Kolkata</td>\n",
       "      <td>25-05-2022</td>\n",
       "      <td>2022</td>\n",
       "      <td>Eliminator</td>\n",
       "      <td>Royal Challengers Bangalore</td>\n",
       "      <td>Lucknow Super Giants</td>\n",
       "      <td>Eden Gardens, Kolkata</td>\n",
       "      <td>Lucknow Super Giants</td>\n",
       "      <td>field</td>\n",
       "      <td>N</td>\n",
       "      <td>Royal Challengers Bangalore</td>\n",
       "      <td>Runs</td>\n",
       "      <td>14.0</td>\n",
       "      <td>NaN</td>\n",
       "      <td>RM Patidar</td>\n",
       "      <td>J Madanagopal</td>\n",
       "      <td>MA Gough</td>\n",
       "    </tr>\n",
       "    <tr>\n",
       "      <th>3</th>\n",
       "      <td>1312197</td>\n",
       "      <td>Kolkata</td>\n",
       "      <td>24-05-2022</td>\n",
       "      <td>2022</td>\n",
       "      <td>Qualifier 1</td>\n",
       "      <td>Rajasthan Royals</td>\n",
       "      <td>Gujarat Titans</td>\n",
       "      <td>Eden Gardens, Kolkata</td>\n",
       "      <td>Gujarat Titans</td>\n",
       "      <td>field</td>\n",
       "      <td>N</td>\n",
       "      <td>Gujarat Titans</td>\n",
       "      <td>Wickets</td>\n",
       "      <td>7.0</td>\n",
       "      <td>NaN</td>\n",
       "      <td>DA Miller</td>\n",
       "      <td>BNJ Oxenford</td>\n",
       "      <td>VK Sharma</td>\n",
       "    </tr>\n",
       "    <tr>\n",
       "      <th>4</th>\n",
       "      <td>1304116</td>\n",
       "      <td>Mumbai</td>\n",
       "      <td>22-05-2022</td>\n",
       "      <td>2022</td>\n",
       "      <td>70</td>\n",
       "      <td>Sunrisers Hyderabad</td>\n",
       "      <td>Punjab Kings</td>\n",
       "      <td>Wankhede Stadium, Mumbai</td>\n",
       "      <td>Sunrisers Hyderabad</td>\n",
       "      <td>bat</td>\n",
       "      <td>N</td>\n",
       "      <td>Punjab Kings</td>\n",
       "      <td>Wickets</td>\n",
       "      <td>5.0</td>\n",
       "      <td>NaN</td>\n",
       "      <td>Harpreet Brar</td>\n",
       "      <td>AK Chaudhary</td>\n",
       "      <td>NA Patwardhan</td>\n",
       "    </tr>\n",
       "  </tbody>\n",
       "</table>\n",
       "</div>"
      ],
      "text/plain": [
       "        id       city  match_date season match_number  \\\n",
       "0  1312200  Ahmedabad  29-05-2022   2022        Final   \n",
       "1  1312199  Ahmedabad  27-05-2022   2022  Qualifier 2   \n",
       "2  1312198    Kolkata  25-05-2022   2022   Eliminator   \n",
       "3  1312197    Kolkata  24-05-2022   2022  Qualifier 1   \n",
       "4  1304116     Mumbai  22-05-2022   2022           70   \n",
       "\n",
       "                         team1                 team2  \\\n",
       "0             Rajasthan Royals        Gujarat Titans   \n",
       "1  Royal Challengers Bangalore      Rajasthan Royals   \n",
       "2  Royal Challengers Bangalore  Lucknow Super Giants   \n",
       "3             Rajasthan Royals        Gujarat Titans   \n",
       "4          Sunrisers Hyderabad          Punjab Kings   \n",
       "\n",
       "                              venue           toss_winner toss_decision  \\\n",
       "0  Narendra Modi Stadium, Ahmedabad      Rajasthan Royals           bat   \n",
       "1  Narendra Modi Stadium, Ahmedabad      Rajasthan Royals         field   \n",
       "2             Eden Gardens, Kolkata  Lucknow Super Giants         field   \n",
       "3             Eden Gardens, Kolkata        Gujarat Titans         field   \n",
       "4          Wankhede Stadium, Mumbai   Sunrisers Hyderabad           bat   \n",
       "\n",
       "  superover                 winning_team   won_by  margin method  \\\n",
       "0         N               Gujarat Titans  Wickets     7.0    NaN   \n",
       "1         N             Rajasthan Royals  Wickets     7.0    NaN   \n",
       "2         N  Royal Challengers Bangalore     Runs    14.0    NaN   \n",
       "3         N               Gujarat Titans  Wickets     7.0    NaN   \n",
       "4         N                 Punjab Kings  Wickets     5.0    NaN   \n",
       "\n",
       "  player_of_match        umpire1        umpire2  \n",
       "0       HH Pandya    CB Gaffaney    Nitin Menon  \n",
       "1      JC Buttler    CB Gaffaney    Nitin Menon  \n",
       "2      RM Patidar  J Madanagopal       MA Gough  \n",
       "3       DA Miller   BNJ Oxenford      VK Sharma  \n",
       "4   Harpreet Brar   AK Chaudhary  NA Patwardhan  "
      ]
     },
     "execution_count": 3,
     "metadata": {},
     "output_type": "execute_result"
    }
   ],
   "source": [
    "# Preview the loan Data\n",
    "IPL_MATCHES.head()"
   ]
  },
  {
   "cell_type": "code",
   "execution_count": 4,
   "id": "f3aaec67-6a3a-4a58-941c-c3bef810cd38",
   "metadata": {},
   "outputs": [
    {
     "data": {
      "text/plain": [
       "id                   0\n",
       "city                51\n",
       "match_date           0\n",
       "season               0\n",
       "match_number         0\n",
       "team1                0\n",
       "team2                0\n",
       "venue                0\n",
       "toss_winner          0\n",
       "toss_decision        0\n",
       "superover            4\n",
       "winning_team         4\n",
       "won_by               0\n",
       "margin              18\n",
       "method             931\n",
       "player_of_match      4\n",
       "umpire1              0\n",
       "umpire2              0\n",
       "dtype: int64"
      ]
     },
     "execution_count": 4,
     "metadata": {},
     "output_type": "execute_result"
    }
   ],
   "source": [
    "# DATA EXPLORATION \n",
    "# Checking for Missing Values\n",
    "IPL_MATCHES.isnull().sum()"
   ]
  },
  {
   "cell_type": "code",
   "execution_count": 202,
   "id": "66110967-879b-45bd-a2a2-543970f6e81f",
   "metadata": {},
   "outputs": [],
   "source": [
    "#HANDLING OF MISSING VALUES "
   ]
  },
  {
   "cell_type": "code",
   "execution_count": 203,
   "id": "d9b96101-fa25-44e3-a3da-a86c3fd9bd63",
   "metadata": {},
   "outputs": [
    {
     "name": "stderr",
     "output_type": "stream",
     "text": [
      "C:\\Users\\user\\AppData\\Local\\Temp\\ipykernel_12688\\2527787717.py:2: FutureWarning: A value is trying to be set on a copy of a DataFrame or Series through chained assignment using an inplace method.\n",
      "The behavior will change in pandas 3.0. This inplace method will never work because the intermediate object on which we are setting values always behaves as a copy.\n",
      "\n",
      "For example, when doing 'df[col].method(value, inplace=True)', try using 'df.method({col: value}, inplace=True)' or df[col] = df[col].method(value) instead, to perform the operation inplace on the original object.\n",
      "\n",
      "\n",
      "  IPL_MATCHES['city'].fillna('mode',inplace=True)\n"
     ]
    }
   ],
   "source": [
    "#HANDLING OF MISSING VALUES FOR CITY\n",
    "IPL_MATCHES['city'].fillna('mode',inplace=True)"
   ]
  },
  {
   "cell_type": "code",
   "execution_count": 195,
   "id": "e2e364dd-cae5-49d3-ace3-f819286cdddf",
   "metadata": {},
   "outputs": [
    {
     "name": "stderr",
     "output_type": "stream",
     "text": [
      "C:\\Users\\user\\AppData\\Local\\Temp\\ipykernel_12688\\984886582.py:2: FutureWarning: Setting an item of incompatible dtype is deprecated and will raise an error in a future version of pandas. Value '<bound method Series.median of 0        7.0\n",
      "1        7.0\n",
      "2       14.0\n",
      "3        7.0\n",
      "4        5.0\n",
      "       ...  \n",
      "945      5.0\n",
      "946      5.0\n",
      "947      9.0\n",
      "948     33.0\n",
      "949    140.0\n",
      "Name: margin, Length: 950, dtype: float64>' has dtype incompatible with float64, please explicitly cast to a compatible dtype first.\n",
      "  IPL_MATCHES['margin'].fillna(IPL_MATCHES['margin'].median,inplace=True)\n"
     ]
    }
   ],
   "source": [
    "#HANDLING OF MISSING VALUES FOR MARGIN\n",
    "IPL_MATCHES['margin'].fillna(IPL_MATCHES['margin'].median,inplace=True)"
   ]
  },
  {
   "cell_type": "code",
   "execution_count": 164,
   "id": "4b6994f0-16ea-42d1-b583-99a846a1140b",
   "metadata": {},
   "outputs": [
    {
     "name": "stderr",
     "output_type": "stream",
     "text": [
      "C:\\Users\\user\\AppData\\Local\\Temp\\ipykernel_12688\\3779939991.py:2: FutureWarning: A value is trying to be set on a copy of a DataFrame or Series through chained assignment using an inplace method.\n",
      "The behavior will change in pandas 3.0. This inplace method will never work because the intermediate object on which we are setting values always behaves as a copy.\n",
      "\n",
      "For example, when doing 'df[col].method(value, inplace=True)', try using 'df.method({col: value}, inplace=True)' or df[col] = df[col].method(value) instead, to perform the operation inplace on the original object.\n",
      "\n",
      "\n",
      "  IPL_MATCHES['method'].fillna('Unknown',inplace=True)\n"
     ]
    }
   ],
   "source": [
    "#HANDLING OF MISSING VALUES FOR METHOD\n",
    "IPL_MATCHES['method'].fillna('Unknown',inplace=True)"
   ]
  },
  {
   "cell_type": "code",
   "execution_count": 165,
   "id": "dc5c3f58-acd8-45a6-b21c-c92002bde7f9",
   "metadata": {},
   "outputs": [
    {
     "name": "stderr",
     "output_type": "stream",
     "text": [
      "C:\\Users\\user\\AppData\\Local\\Temp\\ipykernel_12688\\1654401156.py:2: FutureWarning: A value is trying to be set on a copy of a DataFrame or Series through chained assignment using an inplace method.\n",
      "The behavior will change in pandas 3.0. This inplace method will never work because the intermediate object on which we are setting values always behaves as a copy.\n",
      "\n",
      "For example, when doing 'df[col].method(value, inplace=True)', try using 'df.method({col: value}, inplace=True)' or df[col] = df[col].method(value) instead, to perform the operation inplace on the original object.\n",
      "\n",
      "\n",
      "  IPL_MATCHES['superover'].fillna('mode',inplace=True)\n"
     ]
    }
   ],
   "source": [
    "#HANDLING OF MISSING VALUES FOR SUPEROVER\n",
    "IPL_MATCHES['superover'].fillna('mode',inplace=True)"
   ]
  },
  {
   "cell_type": "code",
   "execution_count": 166,
   "id": "db94e65e-144a-432b-8529-d665703eea8d",
   "metadata": {},
   "outputs": [
    {
     "name": "stderr",
     "output_type": "stream",
     "text": [
      "C:\\Users\\user\\AppData\\Local\\Temp\\ipykernel_12688\\3499234198.py:2: FutureWarning: A value is trying to be set on a copy of a DataFrame or Series through chained assignment using an inplace method.\n",
      "The behavior will change in pandas 3.0. This inplace method will never work because the intermediate object on which we are setting values always behaves as a copy.\n",
      "\n",
      "For example, when doing 'df[col].method(value, inplace=True)', try using 'df.method({col: value}, inplace=True)' or df[col] = df[col].method(value) instead, to perform the operation inplace on the original object.\n",
      "\n",
      "\n",
      "  IPL_MATCHES['player_of_match'].fillna('mode',inplace=True)\n"
     ]
    }
   ],
   "source": [
    "#HANDLING OF MISSING VALUES FOR PLAYER_OF_MATCH\n",
    "IPL_MATCHES['player_of_match'].fillna('mode',inplace=True)"
   ]
  },
  {
   "cell_type": "code",
   "execution_count": 167,
   "id": "b30004a5-6f8d-46bb-9f3c-bc2237865b4f",
   "metadata": {},
   "outputs": [
    {
     "name": "stderr",
     "output_type": "stream",
     "text": [
      "C:\\Users\\user\\AppData\\Local\\Temp\\ipykernel_12688\\188030993.py:2: FutureWarning: A value is trying to be set on a copy of a DataFrame or Series through chained assignment using an inplace method.\n",
      "The behavior will change in pandas 3.0. This inplace method will never work because the intermediate object on which we are setting values always behaves as a copy.\n",
      "\n",
      "For example, when doing 'df[col].method(value, inplace=True)', try using 'df.method({col: value}, inplace=True)' or df[col] = df[col].method(value) instead, to perform the operation inplace on the original object.\n",
      "\n",
      "\n",
      "  IPL_MATCHES['winning_team'].fillna('Mode',inplace=True)\n"
     ]
    }
   ],
   "source": [
    "#HANDLING OF MISSING VALUES FOR WINNING_TEAM\n",
    "IPL_MATCHES['winning_team'].fillna('Mode',inplace=True)"
   ]
  },
  {
   "cell_type": "code",
   "execution_count": 5,
   "id": "4561793e-a688-4fdd-bb04-1ecce5bb552a",
   "metadata": {},
   "outputs": [
    {
     "name": "stdout",
     "output_type": "stream",
     "text": [
      "winning_team\n",
      "Mumbai Indians                 131\n",
      "Chennai Super Kings            121\n",
      "Kolkata Knight Riders          114\n",
      "Royal Challengers Bangalore    109\n",
      "Rajasthan Royals                96\n",
      "Kings XI Punjab                 88\n",
      "Sunrisers Hyderabad             75\n",
      "Delhi Daredevils                67\n",
      "Delhi Capitals                  36\n",
      "Deccan Chargers                 29\n",
      "Gujarat Lions                   13\n",
      "Punjab Kings                    13\n",
      "Pune Warriors                   12\n",
      "Gujarat Titans                  12\n",
      "Rising Pune Supergiant          10\n",
      "Lucknow Super Giants             9\n",
      "Kochi Tuskers Kerala             6\n",
      "Rising Pune Supergiants          5\n",
      "Name: count, dtype: int64\n"
     ]
    }
   ],
   "source": [
    "# Count the number of matches won by each team\n",
    "matches_won = IPL_MATCHES['winning_team'].value_counts()\n",
    "print(matches_won)"
   ]
  },
  {
   "cell_type": "code",
   "execution_count": 6,
   "id": "e26dcd17-6fa8-4c42-be60-90255e84de7e",
   "metadata": {},
   "outputs": [
    {
     "ename": "SyntaxError",
     "evalue": "expression cannot contain assignment, perhaps you meant \"==\"? (3772856444.py, line 7)",
     "output_type": "error",
     "traceback": [
      "\u001b[1;36m  Cell \u001b[1;32mIn[6], line 7\u001b[1;36m\u001b[0m\n\u001b[1;33m    plt.xticks('rotation'=45)\u001b[0m\n\u001b[1;37m               ^\u001b[0m\n\u001b[1;31mSyntaxError\u001b[0m\u001b[1;31m:\u001b[0m expression cannot contain assignment, perhaps you meant \"==\"?\n"
     ]
    }
   ],
   "source": [
    "# Step 4: Data Visualization\n",
    "\n",
    "# Visualization 1: Number of Matches Won by Each Team\n",
    "plt.figure(figsize=(12, 6))\n",
    "sns.countplot(IPL_MATCHES=IPL_MATCHES, x='winning_team', order=matches_won.index)\n",
    "plt.title('Number of Matches Won by Each Team (2008-2022)')\n",
    "plt.xticks('rotation'=45)\n",
    "plt.ylabel('Number of Wins')\n",
    "plt.xlabel('Teams')\n",
    "plt.show()"
   ]
  },
  {
   "cell_type": "code",
   "execution_count": 207,
   "id": "36ab56d0-5a50-418d-80aa-296beb2c19c3",
   "metadata": {},
   "outputs": [
    {
     "data": {
      "image/png": "[encoded data removed]",
      "text/plain": [
       "<Figure size 1200x600 with 1 Axes>"
      ]
     },
     "metadata": {},
     "output_type": "display_data"
    }
   ],
   "source": [
    "# Visualization 2: Distribution of Runs Scored in Matches\n",
    "plt.figure(figsize=(12, 6))\n",
    "sns.histplot(IPL_MATCHES['margin'], bins=30, kde=True)\n",
    "plt.title('Distribution of Winning Margins in IPL_MATCHES')\n",
    "plt.xlabel('Winning Margin (Runs/Wickets)')\n",
    "plt.ylabel('Frequency')\n",
    "plt.show()"
   ]
  },
  {
   "cell_type": "code",
   "execution_count": null,
   "id": "333b47b7-6929-463b-b2e0-b036e33ad439",
   "metadata": {},
   "outputs": [],
   "source": []
  },
  {
   "cell_type": "code",
   "execution_count": 206,
   "id": "94fefc55-f75a-4d01-a305-b4b239e281db",
   "metadata": {},
   "outputs": [
    {
     "data": {
      "image/png": "[encoded data removed]",
      "text/plain": [
       "<Figure size 1200x600 with 1 Axes>"
      ]
     },
     "metadata": {},
     "output_type": "display_data"
    }
   ],
   "source": [
    "# Visualization 3: Player of the Match Frequency\n",
    "player_of_match_counts = IPL_MATCHES['player_of_match'].value_counts().head(10)\n",
    "plt.figure(figsize=(12, 6))\n",
    "sns.barplot(x=player_of_match_counts.values, y=player_of_match_counts.index)\n",
    "plt.title('Top 10 Players of the Match (2008-2022)')\n",
    "plt.xlabel('Number of Times Awarded')\n",
    "plt.ylabel('Player')\n",
    "plt.show()"
   ]
  },
  {
   "cell_type": "code",
   "execution_count": null,
   "id": "0ab26eb9-e988-480b-a89a-fbe2a4719b3a",
   "metadata": {},
   "outputs": [],
   "source": []
  },
  {
   "cell_type": "code",
   "execution_count": null,
   "id": "cb2c1647-9388-4784-93ed-720b12a7eb3d",
   "metadata": {},
   "outputs": [],
   "source": []
  },
  {
   "cell_type": "code",
   "execution_count": null,
   "id": "e73f64a5-66a6-4a75-8adb-dc651b9aea60",
   "metadata": {},
   "outputs": [],
   "source": []
  },
  {
   "cell_type": "code",
   "execution_count": null,
   "id": "af6bbe6b-9826-491f-9506-05f048443da8",
   "metadata": {},
   "outputs": [],
   "source": []
  },
  {
   "cell_type": "code",
   "execution_count": null,
   "id": "7359c97b-2c31-4c85-a4ce-1aa136257a43",
   "metadata": {},
   "outputs": [],
   "source": []
  },
  {
   "cell_type": "code",
   "execution_count": null,
   "id": "239f5c0f-c433-446d-849d-5d5f657f9d7e",
   "metadata": {},
   "outputs": [],
   "source": []
  },
  {
   "cell_type": "code",
   "execution_count": null,
   "id": "ec1df51b-630b-450d-a1fb-2c71bf7400f8",
   "metadata": {},
   "outputs": [],
   "source": []
  },
  {
   "cell_type": "code",
   "execution_count": null,
   "id": "1948b51b-f774-4051-8b05-3d7a65e84b45",
   "metadata": {},
   "outputs": [],
   "source": []
  }
 ],
 "metadata": {
  "kernelspec": {
   "display_name": "Python 3 (ipykernel)",
   "language": "python",
   "name": "python3"
  },
  "language_info": {
   "codemirror_mode": {
    "name": "ipython",
    "version": 3
   },
   "file_extension": ".py",
   "mimetype": "text/x-python",
   "name": "python",
   "nbconvert_exporter": "python",
   "pygments_lexer": "ipython3",
   "version": "3.12.7"
  }
 },
 "nbformat": 4,
 "nbformat_minor": 5
}
